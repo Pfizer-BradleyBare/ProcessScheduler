{
 "cells": [
  {
   "cell_type": "code",
   "execution_count": null,
   "metadata": {},
   "outputs": [],
   "source": [
    "%matplotlib widget\n",
    "import processscheduler as ps"
   ]
  },
  {
   "cell_type": "markdown",
   "metadata": {},
   "source": [
    "# Bike shop\n",
    "Ported from https://github.com/timnon/pyschedule/blob/master/example-notebooks/bike-shop.ipynb"
   ]
  },
  {
   "cell_type": "code",
   "execution_count": null,
   "metadata": {},
   "outputs": [],
   "source": [
    "pb_bs = ps.SchedulingProblem(name=\"BikeShop\")\n",
    "\n",
    "# tasks\n",
    "green_paint = ps.FixedDurationTask(name=\"GreenPaint\", duration=2)\n",
    "red_paint = ps.FixedDurationTask(name=\"RedPaint\", duration=2)\n",
    "green_post = ps.FixedDurationTask(name=\"GreenPost\", duration=1)\n",
    "red_post = ps.FixedDurationTask(name=\"RedPost\", duration=1)\n",
    "\n",
    "# workers\n",
    "Alice = ps.Worker(name=\"Alice\")\n",
    "Bob = ps.Worker(name=\"Bob\")\n",
    "\n",
    "# precedence constraints\n",
    "ps.TaskPrecedence(task_before=green_paint, task_after=green_post)\n",
    "ps.TaskPrecedence(task_before=red_paint, task_after=red_post, offset=1, kind=\"tight\")\n",
    "\n",
    "# resource assignment\n",
    "green_paint.add_required_resource(\n",
    "    ps.SelectWorkers(list_of_workers=[Alice, Bob], nb_workers_to_select=1)\n",
    ")\n",
    "green_post.add_required_resource(\n",
    "    ps.SelectWorkers(list_of_workers=[Alice, Bob], nb_workers_to_select=1)\n",
    ")\n",
    "red_paint.add_required_resource(\n",
    "    ps.SelectWorkers(list_of_workers=[Alice, Bob], nb_workers_to_select=1)\n",
    ")\n",
    "red_post.add_required_resource(\n",
    "    ps.SelectWorkers(list_of_workers=[Alice, Bob], nb_workers_to_select=1)\n",
    ")\n",
    "\n",
    "# add makespan objective\n",
    "pb_bs.add_objective_makespan()\n",
    "\n",
    "# plot solution\n",
    "solver = ps.SchedulingSolver(problem=pb_bs)\n",
    "solution = solver.solve()\n",
    "solution.render_gantt_matplotlib()"
   ]
  },
  {
   "cell_type": "code",
   "execution_count": null,
   "metadata": {},
   "outputs": [],
   "source": [
    "paint_shop = ps.Worker(name=\"PaintShop\")\n",
    "\n",
    "red_paint.add_required_resource(paint_shop)\n",
    "green_paint.add_required_resource(paint_shop)\n",
    "\n",
    "# create another solver instance\n",
    "solver_2 = ps.SchedulingSolver(problem=pb_bs)\n",
    "solution2 = solver_2.solve()\n",
    "solution2.render_gantt_matplotlib()"
   ]
  },
  {
   "cell_type": "code",
   "execution_count": null,
   "metadata": {},
   "outputs": [],
   "source": [
    "ps.TaskStartAfter(task=red_paint, value=2)\n",
    "\n",
    "# create another solver instance\n",
    "solver_3 = ps.SchedulingSolver(problem=pb_bs)\n",
    "solution_3 = solver_3.solve()\n",
    "solution_3.render_gantt_matplotlib()"
   ]
  }
 ],
 "metadata": {
  "kernelspec": {
   "display_name": "Python 3 (ipykernel)",
   "language": "python",
   "name": "python3"
  },
  "language_info": {
   "codemirror_mode": {
    "name": "ipython",
    "version": 3
   },
   "file_extension": ".py",
   "mimetype": "text/x-python",
   "name": "python",
   "nbconvert_exporter": "python",
   "pygments_lexer": "ipython3",
   "version": "3.9.0"
  }
 },
 "nbformat": 4,
 "nbformat_minor": 4
}
