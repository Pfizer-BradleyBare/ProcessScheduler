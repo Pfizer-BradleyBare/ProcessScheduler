{
 "cells": [
  {
   "cell_type": "markdown",
   "metadata": {},
   "source": [
    "# Resource constrained project scheduling\n",
    "This is a port of the Python-MIP example at https://python-mip.readthedocs.io/en/latest/examples.html#resource-constrained-project-scheduling"
   ]
  },
  {
   "cell_type": "code",
   "execution_count": null,
   "metadata": {},
   "outputs": [],
   "source": [
    "import processscheduler as ps\n",
    "\n",
    "%config InlineBackend.figure_formats = ['svg']"
   ]
  },
  {
   "cell_type": "markdown",
   "metadata": {},
   "source": [
    "# Input\n",
    "Compared to Python-MIP, there's no need to create dummy jobs"
   ]
  },
  {
   "cell_type": "code",
   "execution_count": null,
   "metadata": {},
   "outputs": [],
   "source": [
    "# total number of jobs\n",
    "n = 10\n",
    "\n",
    "# job durations\n",
    "p = [3, 2, 5, 4, 2, 3, 4, 2, 4, 6]\n",
    "\n",
    "# number of resources [c1, c2] required per for each job\n",
    "u = [[5, 1], [0, 4], [1, 4], [1, 3], [3, 2], [3, 1], [2, 4], [4, 0], [5, 2], [2, 5]]\n",
    "# number of resources c and c2\n",
    "c = [6, 8]\n",
    "\n",
    "# job dependencies/precedences\n",
    "S = [\n",
    "    [1, 4],\n",
    "    [1, 5],\n",
    "    [2, 9],\n",
    "    [2, 10],\n",
    "    [3, 8],\n",
    "    [4, 6],\n",
    "    [4, 7],\n",
    "    [5, 9],\n",
    "    [5, 10],\n",
    "    [6, 8],\n",
    "    [6, 9],\n",
    "    [7, 8],\n",
    "]"
   ]
  },
  {
   "cell_type": "markdown",
   "metadata": {},
   "source": [
    "# Model creation"
   ]
  },
  {
   "cell_type": "code",
   "execution_count": null,
   "metadata": {},
   "outputs": [],
   "source": [
    "pb = ps.SchedulingProblem(\"ResourceConstrainedProject\")\n",
    "# create n jobs\n",
    "jobs = [ps.FixedDurationTask(\"Job_%i\" % (i + 1), duration=p[i]) for i in range(n)]\n",
    "# create the resources\n",
    "C1_Ress = [ps.Worker(\"C1_Ress_%i\" % i) for i in range(c[0])]\n",
    "C2_Ress = [ps.Worker(\"C2_Ress_%i\" % i) for i in range(c[1])]\n",
    "# job precedences\n",
    "for index_job_before, index_job_after in S:\n",
    "    ps.TaskPrecedence(jobs[index_job_before - 1], jobs[index_job_after - 1])\n",
    "# assign resources to jobs\n",
    "i = 0\n",
    "for u1, u2 in u:\n",
    "    if u1 != 0:\n",
    "        jobs[i].add_required_resource(ps.SelectWorkers(C1_Ress, u1, kind=\"exact\"))\n",
    "    if u2 != 0:\n",
    "        jobs[i].add_required_resource(ps.SelectWorkers(C2_Ress, u2, kind=\"exact\"))\n",
    "    i += 1"
   ]
  },
  {
   "cell_type": "markdown",
   "metadata": {},
   "source": [
    "# Makespan"
   ]
  },
  {
   "cell_type": "code",
   "execution_count": null,
   "metadata": {},
   "outputs": [],
   "source": [
    "# there may be several schedules, add the following constraint\n",
    "# to find the solution available from the python-MIP documentation\n",
    "ps.TaskStartAt(jobs[9], 15)\n",
    "pb.add_objective_makespan()"
   ]
  },
  {
   "cell_type": "markdown",
   "metadata": {},
   "source": [
    "# Solve"
   ]
  },
  {
   "cell_type": "code",
   "execution_count": null,
   "metadata": {},
   "outputs": [],
   "source": [
    "solver = ps.SchedulingSolver(pb)\n",
    "solution = solver.solve()"
   ]
  },
  {
   "cell_type": "markdown",
   "metadata": {},
   "source": [
    "# Render Gantt\n",
    "The solution displayed below should the same as the Python-MIP optimum"
   ]
  },
  {
   "cell_type": "code",
   "execution_count": null,
   "metadata": {},
   "outputs": [],
   "source": [
    "solution.render_gantt_matplotlib()"
   ]
  }
 ],
 "metadata": {
  "kernelspec": {
   "display_name": "Python 3",
   "language": "python",
   "name": "python3"
  },
  "language_info": {
   "codemirror_mode": {
    "name": "ipython",
    "version": 3
   },
   "file_extension": ".py",
   "mimetype": "text/x-python",
   "name": "python",
   "nbconvert_exporter": "python",
   "pygments_lexer": "ipython3",
   "version": "3.8.6"
  }
 },
 "nbformat": 4,
 "nbformat_minor": 4
}
