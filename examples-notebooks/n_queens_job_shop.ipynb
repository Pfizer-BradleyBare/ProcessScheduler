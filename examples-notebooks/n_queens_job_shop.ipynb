{
 "cells": [
  {
   "cell_type": "markdown",
   "metadata": {},
   "source": [
    "# n queens job shop scheduling\n",
    "Adapted from https://github.com/timnon/pyschedule/blob/master/examples/n-queens-job-shop.py"
   ]
  },
  {
   "cell_type": "code",
   "execution_count": null,
   "metadata": {},
   "outputs": [],
   "source": [
    "%matplotlib widget\n",
    "import processscheduler as ps"
   ]
  },
  {
   "cell_type": "code",
   "execution_count": null,
   "metadata": {},
   "outputs": [],
   "source": [
    "# set input size to 5 just for readability, increasing up to 30 is ok\n",
    "# to get a solution in a reasonable time\n",
    "n = 20\n",
    "pb = ps.SchedulingProblem(name=\"n_queens_type_scheduling\", horizon=n)"
   ]
  },
  {
   "cell_type": "code",
   "execution_count": null,
   "metadata": {},
   "outputs": [],
   "source": [
    "# resources\n",
    "R = {i: ps.Worker(name=\"W-%i\" % i) for i in range(n)}"
   ]
  },
  {
   "cell_type": "code",
   "execution_count": null,
   "metadata": {},
   "outputs": [],
   "source": [
    "# tasks\n",
    "T = {\n",
    "    (i, j): ps.FixedDurationTask(name=\"T-%i-%i\" % (i, j), duration=1)\n",
    "    for i in range(n)\n",
    "    for j in range(n)\n",
    "}"
   ]
  },
  {
   "cell_type": "code",
   "execution_count": null,
   "metadata": {},
   "outputs": [],
   "source": [
    "# precedence constrains\n",
    "for i in range(n):\n",
    "    for j in range(1, n):\n",
    "        ps.TaskPrecedence(task_before=T[i, j - 1], task_after=T[i, j], offset=0)"
   ]
  },
  {
   "cell_type": "code",
   "execution_count": null,
   "metadata": {},
   "outputs": [],
   "source": [
    "# resource assignment modulo n\n",
    "for j in range(n):\n",
    "    for i in range(n):\n",
    "        T[(i + j) % n, j].add_required_resource(R[i])"
   ]
  },
  {
   "cell_type": "code",
   "execution_count": null,
   "metadata": {},
   "outputs": [],
   "source": [
    "# solve\n",
    "solver = ps.SchedulingSolver(problem=pb, logics=\"QF_UFIDL\")\n",
    "sol = solver.solve()"
   ]
  },
  {
   "cell_type": "code",
   "execution_count": null,
   "metadata": {},
   "outputs": [],
   "source": [
    "ps.render_gantt_matplotlib(sol)"
   ]
  }
 ],
 "metadata": {
  "kernelspec": {
   "display_name": "Python 3 (ipykernel)",
   "language": "python",
   "name": "python3"
  },
  "language_info": {
   "codemirror_mode": {
    "name": "ipython",
    "version": 3
   },
   "file_extension": ".py",
   "mimetype": "text/x-python",
   "name": "python",
   "nbconvert_exporter": "python",
   "pygments_lexer": "ipython3",
   "version": "3.9.0"
  }
 },
 "nbformat": 4,
 "nbformat_minor": 4
}
