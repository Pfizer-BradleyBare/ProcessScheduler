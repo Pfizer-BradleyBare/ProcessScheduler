{
 "cells": [
  {
   "cell_type": "markdown",
   "id": "thirty-blind",
   "metadata": {},
   "source": [
    "# Excavator use-case 1: problem statement and first solution"
   ]
  },
  {
   "cell_type": "code",
   "execution_count": null,
   "id": "deadly-nicholas",
   "metadata": {},
   "outputs": [],
   "source": [
    "from IPython.display import Image\n",
    "\n",
    "%matplotlib widget\n",
    "import processscheduler as ps"
   ]
  },
  {
   "cell_type": "markdown",
   "id": "military-mystery",
   "metadata": {},
   "source": [
    "### Problem: dig 3 holes (small, medium, big) using 2 excavators (one small size, one medimum size)"
   ]
  },
  {
   "cell_type": "code",
   "execution_count": null,
   "id": "ranking-tribute",
   "metadata": {},
   "outputs": [],
   "source": [
    "Image(\"excavator_small.jpeg\", width=200)"
   ]
  },
  {
   "cell_type": "code",
   "execution_count": null,
   "id": "fluid-replication",
   "metadata": {},
   "outputs": [],
   "source": [
    "Image(\"excavator_medium_size.jpg\", width=300)"
   ]
  },
  {
   "cell_type": "code",
   "execution_count": null,
   "id": "specific-click",
   "metadata": {},
   "outputs": [],
   "source": [
    "Image(\"small_hole.jpeg\", width=200)"
   ]
  },
  {
   "cell_type": "code",
   "execution_count": null,
   "id": "academic-canvas",
   "metadata": {},
   "outputs": [],
   "source": [
    "Image(\"medium_hole.jpeg\", width=300)"
   ]
  },
  {
   "cell_type": "code",
   "execution_count": null,
   "id": "optical-timer",
   "metadata": {},
   "outputs": [],
   "source": [
    "Image(\"huge_hole.jpg\", width=400)"
   ]
  },
  {
   "cell_type": "code",
   "execution_count": null,
   "id": "excessive-thong",
   "metadata": {},
   "outputs": [],
   "source": [
    "problem = ps.SchedulingProblem(name=\"Excavator1:ProblemDefinition\")\n",
    "\n",
    "# three tasks\n",
    "dig_small_hole = ps.FixedDurationTask(name=\"DigSmallHole\", duration=3)\n",
    "dig_medium_hole = ps.FixedDurationTask(name=\"DigMediumHole\", duration=7)\n",
    "dig_huge_hole = ps.FixedDurationTask(name=\"DigHugeHole\", duration=15)\n",
    "\n",
    "# two workers\n",
    "small_exc = ps.Worker(name=\"SmallExcavator\")\n",
    "medium_ex = ps.Worker(name=\"MediumExcavator\")\n",
    "\n",
    "dig_small_hole.add_required_resource(\n",
    "    ps.SelectWorkers(list_of_workers=[small_exc, medium_ex], nb_workers_to_select=1, kind=\"min\")\n",
    ")\n",
    "dig_medium_hole.add_required_resource(\n",
    "    ps.SelectWorkers(list_of_workers=[small_exc, medium_ex], nb_workers_to_select=1, kind=\"min\")\n",
    ")\n",
    "dig_huge_hole.add_required_resource(\n",
    "    ps.SelectWorkers(list_of_workers=[small_exc, medium_ex], nb_workers_to_select=1, kind=\"min\")\n",
    ")\n",
    "\n",
    "solver = ps.SchedulingSolver(problem=problem)\n",
    "solution = solver.solve()"
   ]
  },
  {
   "cell_type": "code",
   "execution_count": null,
   "id": "rubber-gateway",
   "metadata": {},
   "outputs": [],
   "source": [
    "print(solution)"
   ]
  },
  {
   "cell_type": "code",
   "execution_count": null,
   "id": "passive-denmark",
   "metadata": {},
   "outputs": [],
   "source": [
    "ps.render_gantt_matplotlib(solution)"
   ]
  }
 ],
 "metadata": {
  "kernelspec": {
   "display_name": "Python 3 (ipykernel)",
   "language": "python",
   "name": "python3"
  },
  "language_info": {
   "codemirror_mode": {
    "name": "ipython",
    "version": 3
   },
   "file_extension": ".py",
   "mimetype": "text/x-python",
   "name": "python",
   "nbconvert_exporter": "python",
   "pygments_lexer": "ipython3",
   "version": "3.9.0"
  }
 },
 "nbformat": 4,
 "nbformat_minor": 5
}
