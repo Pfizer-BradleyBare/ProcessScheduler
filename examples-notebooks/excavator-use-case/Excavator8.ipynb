{
 "cells": [
  {
   "cell_type": "markdown",
   "id": "metropolitan-emphasis",
   "metadata": {},
   "source": [
    "# Excavator use-case 8: Advanced Cost Functions"
   ]
  },
  {
   "cell_type": "code",
   "execution_count": null,
   "id": "crucial-approval",
   "metadata": {},
   "outputs": [],
   "source": [
    "%matplotlib widget\n",
    "import processscheduler as ps\n",
    "\n",
    "problem = ps.SchedulingProblem(name=\"Excavator8:AdvancedCostFunction\", horizon=40)\n",
    "\n",
    "# three tasks\n",
    "dig_small_hole = ps.VariableDurationTask(name=\"DigSmallHole\", work_amount=3)\n",
    "dig_medium_hole = ps.VariableDurationTask(name=\"DigMediumHole\", work_amount=7)\n",
    "dig_huge_hole = ps.VariableDurationTask(name=\"DigHugeHole\", work_amount=15)"
   ]
  },
  {
   "cell_type": "code",
   "execution_count": null,
   "id": "acquired-corruption",
   "metadata": {},
   "outputs": [],
   "source": [
    "# cost function for the small excavator is linear\n",
    "# C(t) = 10t+20\n",
    "small_exc_cost = ps.LinearCostFunction(slope=10, intercept=20)\n",
    "ps.plot_cost(small_exc_cost, interval=[0, 40])"
   ]
  },
  {
   "cell_type": "code",
   "execution_count": null,
   "id": "informed-piece",
   "metadata": {},
   "outputs": [],
   "source": [
    "# cost function for the medium excavator is quadratic, max at the middle\n",
    "# C(t) = 400-(t-20)**2 = -t**2 + 40t\n",
    "medium_exc_cost = ps.PolynomialCostFunction(coefficients=[-1, 40, 0])\n",
    "ps.plot_cost(medium_exc_cost, interval=[0, 40])"
   ]
  },
  {
   "cell_type": "code",
   "execution_count": null,
   "id": "insured-drink",
   "metadata": {},
   "outputs": [],
   "source": [
    "small_exc = ps.Worker(name=\"SmallExcavator\", productivity=4, cost=small_exc_cost)\n",
    "medium_ex = ps.Worker(name=\"MediumExcavator\", productivity=6, cost=medium_exc_cost)\n",
    "\n",
    "dig_small_hole.add_required_resource(\n",
    "    ps.SelectWorkers(list_of_workers=[small_exc, medium_ex], nb_workers_to_select=1, kind=\"min\")\n",
    ")\n",
    "dig_medium_hole.add_required_resource(\n",
    "    ps.SelectWorkers(list_of_workers=[small_exc, medium_ex], nb_workers_to_select=1, kind=\"min\")\n",
    ")\n",
    "dig_huge_hole.add_required_resource(\n",
    "    ps.SelectWorkers(list_of_workers=[small_exc, medium_ex], nb_workers_to_select=1, kind=\"min\")\n",
    ")"
   ]
  },
  {
   "cell_type": "code",
   "execution_count": null,
   "id": "social-trout",
   "metadata": {},
   "outputs": [],
   "source": [
    "ps.ObjectiveMinimizeResourceCost(list_of_resources=[small_exc, medium_ex])"
   ]
  },
  {
   "cell_type": "code",
   "execution_count": null,
   "id": "together-floor",
   "metadata": {},
   "outputs": [],
   "source": [
    "solver = ps.SchedulingSolver(problem=problem, max_time=30)"
   ]
  },
  {
   "cell_type": "code",
   "execution_count": null,
   "id": "moral-chocolate",
   "metadata": {},
   "outputs": [],
   "source": [
    "solution = solver.solve()\n",
    "ps.render_gantt_matplotlib(solution)"
   ]
  }
 ],
 "metadata": {
  "kernelspec": {
   "display_name": "Python 3 (ipykernel)",
   "language": "python",
   "name": "python3"
  },
  "language_info": {
   "codemirror_mode": {
    "name": "ipython",
    "version": 3
   },
   "file_extension": ".py",
   "mimetype": "text/x-python",
   "name": "python",
   "nbconvert_exporter": "python",
   "pygments_lexer": "ipython3",
   "version": "3.9.0"
  }
 },
 "nbformat": 4,
 "nbformat_minor": 5
}
