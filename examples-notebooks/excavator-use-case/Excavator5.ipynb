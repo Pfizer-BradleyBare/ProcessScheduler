{
 "cells": [
  {
   "cell_type": "markdown",
   "id": "harmful-vertex",
   "metadata": {},
   "source": [
    "# Excavator use-case 5: resource capacities / costs"
   ]
  },
  {
   "cell_type": "code",
   "execution_count": null,
   "id": "extensive-chest",
   "metadata": {},
   "outputs": [],
   "source": [
    "%matplotlib widget\n",
    "import processscheduler as ps\n",
    "\n",
    "problem = ps.SchedulingProblem(name=\"Excavator5:ResourceCapacitiesCosts\")\n",
    "\n",
    "# three tasks\n",
    "dig_small_hole = ps.VariableDurationTask(name=\"DigSmallHole\", work_amount=3)\n",
    "dig_medium_hole = ps.VariableDurationTask(name=\"DigMediumHole\", work_amount=7)\n",
    "dig_huge_hole = ps.VariableDurationTask(name=\"DigHugeHole\", work_amount=15)\n",
    "\n",
    "# two workers\n",
    "small_exc = ps.Worker(\n",
    "    name=\"SmallExcavator\", productivity=4, cost=ps.ConstantCostFunction(value=5)\n",
    ")\n",
    "medium_ex = ps.Worker(\n",
    "    name=\"MediumExcavator\", productivity=6, cost=ps.ConstantCostFunction(value=10)\n",
    ")\n",
    "\n",
    "dig_small_hole.add_required_resource(\n",
    "    ps.SelectWorkers(list_of_workers=[small_exc, medium_ex], nb_workers_to_select=1, kind=\"min\")\n",
    ")\n",
    "dig_medium_hole.add_required_resource(\n",
    "    ps.SelectWorkers(list_of_workers=[small_exc, medium_ex], nb_workers_to_select=1, kind=\"min\")\n",
    ")\n",
    "dig_huge_hole.add_required_resource(\n",
    "    ps.SelectWorkers(list_of_workers=[small_exc, medium_ex], nb_workers_to_select=1, kind=\"min\")\n",
    ")\n",
    "\n",
    "ps.ObjectiveMinimizeMakespan()\n",
    "\n",
    "ps.IndicatorResourceCost(list_of_resources=[small_exc, medium_ex])\n",
    "\n",
    "solver = ps.SchedulingSolver(problem=problem)\n",
    "solution = solver.solve()\n",
    "ps.render_gantt_matplotlib(solution)"
   ]
  }
 ],
 "metadata": {
  "kernelspec": {
   "display_name": "Python 3 (ipykernel)",
   "language": "python",
   "name": "python3"
  },
  "language_info": {
   "codemirror_mode": {
    "name": "ipython",
    "version": 3
   },
   "file_extension": ".py",
   "mimetype": "text/x-python",
   "name": "python",
   "nbconvert_exporter": "python",
   "pygments_lexer": "ipython3",
   "version": "3.9.0"
  }
 },
 "nbformat": 4,
 "nbformat_minor": 5
}
