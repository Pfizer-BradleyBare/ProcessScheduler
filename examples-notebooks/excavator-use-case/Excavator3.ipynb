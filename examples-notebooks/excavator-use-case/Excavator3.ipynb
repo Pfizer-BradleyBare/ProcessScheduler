{
 "cells": [
  {
   "cell_type": "markdown",
   "id": "sorted-tennis",
   "metadata": {},
   "source": [
    "# Excavator use-case 3: task constraints"
   ]
  },
  {
   "cell_type": "code",
   "execution_count": null,
   "id": "congressional-waters",
   "metadata": {},
   "outputs": [],
   "source": [
    "import processscheduler as ps\n",
    "\n",
    "problem = ps.SchedulingProblem(name=\"Excavator3:TaskPrecedenceConstraint\")\n",
    "\n",
    "# three tasks\n",
    "dig_small_hole = ps.FixedDurationTask(name=\"DigSmallHole\", duration=3)\n",
    "dig_medium_hole = ps.FixedDurationTask(name=\"DigMediumHole\", duration=7)\n",
    "dig_huge_hole = ps.FixedDurationTask(name=\"DigHugeHole\", duration=15)\n",
    "\n",
    "# two workers\n",
    "small_exc = ps.Worker(name=\"SmallExcavator\")\n",
    "medium_ex = ps.Worker(name=\"MediumExcavator\")\n",
    "\n",
    "dig_small_hole.add_required_resource(\n",
    "    ps.SelectWorkers(list_of_workers=[small_exc, medium_ex], nb_workers_to_select=1, kind=\"min\")\n",
    ")\n",
    "dig_medium_hole.add_required_resource(\n",
    "    ps.SelectWorkers(list_of_workers=[small_exc, medium_ex], nb_workers_to_select=1, kind=\"min\")\n",
    ")\n",
    "dig_huge_hole.add_required_resource(\n",
    "    ps.SelectWorkers(list_of_workers=[small_exc, medium_ex], nb_workers_to_select=1, kind=\"min\")\n",
    ")\n",
    "\n",
    "# adds a precedence constraint: task_2 must be scheduled after task_3\n",
    "\n",
    "ps.TaskPrecedence(task_before=dig_medium_hole, task_after=dig_huge_hole)\n",
    "\n",
    "solver = ps.SchedulingSolver(problem=problem)\n",
    "solution = solver.solve()"
   ]
  },
  {
   "cell_type": "code",
   "execution_count": null,
   "id": "japanese-whale",
   "metadata": {},
   "outputs": [],
   "source": [
    "ps.render_gantt_matplotlib(solution)"
   ]
  },
  {
   "cell_type": "code",
   "execution_count": null,
   "id": "meaning-thousand",
   "metadata": {},
   "outputs": [],
   "source": [
    "ps.TaskPrecedence(task_before=dig_small_hole, task_after=dig_medium_hole)\n",
    "solver = ps.SchedulingSolver(problem=problem)\n",
    "solution2 = solver.solve()\n",
    "ps.render_gantt_matplotlib(solution2)"
   ]
  }
 ],
 "metadata": {
  "kernelspec": {
   "display_name": "Python 3 (ipykernel)",
   "language": "python",
   "name": "python3"
  },
  "language_info": {
   "codemirror_mode": {
    "name": "ipython",
    "version": 3
   },
   "file_extension": ".py",
   "mimetype": "text/x-python",
   "name": "python",
   "nbconvert_exporter": "python",
   "pygments_lexer": "ipython3",
   "version": "3.9.0"
  }
 },
 "nbformat": 4,
 "nbformat_minor": 5
}
