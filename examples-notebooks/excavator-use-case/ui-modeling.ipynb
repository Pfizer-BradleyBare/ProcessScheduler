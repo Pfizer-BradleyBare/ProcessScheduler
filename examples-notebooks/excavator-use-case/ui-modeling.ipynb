{
 "cells": [
  {
   "cell_type": "markdown",
   "id": "excited-reach",
   "metadata": {},
   "source": [
    "# A jupyter/voila user interface for ProcessScheduler modeling"
   ]
  },
  {
   "cell_type": "code",
   "execution_count": 1,
   "id": "julian-publication",
   "metadata": {},
   "outputs": [],
   "source": [
    "%matplotlib widget\n",
    "import processscheduler.jupyter_ui as gui"
   ]
  },
  {
   "cell_type": "markdown",
   "id": "smooth-broadcast",
   "metadata": {},
   "source": [
    "## Problem\n",
    "The problem name is a mandatory parameter. If you check the *Set horizon* box, then enter an integer in the *Horizon* field. If you don't, the solver will suggest an horizon that satisfied the constraints.\n",
    "\n",
    "The *Time* fields format must be ISO date strings. For example, the *Start Time* can be `2021-05-5T10:00` and *Delta Time* for example `PT1H` (one hour)."
   ]
  },
  {
   "cell_type": "code",
   "execution_count": 2,
   "id": "stretch-gateway",
   "metadata": {
    "scrolled": true
   },
   "outputs": [
    {
     "data": {
      "application/vnd.jupyter.widget-view+json": {
       "model_id": "13336d3b34e44913b04d66e6330db2f0",
       "version_major": 2,
       "version_minor": 0
      },
      "text/plain": [
       "VBox(children=(HBox(children=(Text(value='MySchedulingProblem', description='Name:', placeholder='Enter schedu…"
      ]
     },
     "execution_count": 2,
     "metadata": {},
     "output_type": "execute_result"
    }
   ],
   "source": [
    "gui.problem_ui"
   ]
  },
  {
   "cell_type": "markdown",
   "id": "fleet-claim",
   "metadata": {},
   "source": [
    "## Resources\n",
    "The *Size* field is relevant and mandatory for *CumulativeWorker* only. The *Size* is defined as the number of concurrent tasks a *CumulativeWorker* can process.\n",
    "\n",
    "*Cost per period* and *Productivity* are optional parameters for both resource types. There is no upper bound for these two parameters. The *Productivity* is defined as the quantity of work a resource can process per time period."
   ]
  },
  {
   "cell_type": "code",
   "execution_count": 3,
   "id": "funded-animal",
   "metadata": {},
   "outputs": [
    {
     "data": {
      "application/vnd.jupyter.widget-view+json": {
       "model_id": "fe58a98675894a51814d9316b00d0117",
       "version_major": 2,
       "version_minor": 0
      },
      "text/plain": [
       "VBox(children=(HBox(children=(Dropdown(description='Resource type:', options=('Worker', 'CumulativeWorker'), v…"
      ]
     },
     "execution_count": 3,
     "metadata": {},
     "output_type": "execute_result"
    }
   ],
   "source": [
    "gui.resource_ui"
   ]
  },
  {
   "cell_type": "markdown",
   "id": "asian-fellow",
   "metadata": {},
   "source": [
    "## Tasks\n",
    "The *Duration* parameter is mandatory and relevant for *FixedDurationTask*s only.\n",
    "\n",
    "*Priority* and *Work amount* are optional parameters for all task types. A task with a higher priority will (certainly) be scheduled *before* a task with a lower priority (note that there is no upper bound for this parameter, it's up to you to decide the value), unless there is another stronger constraint.\n",
    "\n",
    "The *Work Amount* is defined as the total quantity of work to perform during the task duration. It is related to the *Productivity/Period* parameter of a resource (see above).\n",
    "\n",
    "Any *Task* can be set as *Optional* by clicking the check box. An *Optional* task may or may not be scheduled according to the constraints."
   ]
  },
  {
   "cell_type": "code",
   "execution_count": 4,
   "id": "completed-crack",
   "metadata": {},
   "outputs": [
    {
     "data": {
      "application/vnd.jupyter.widget-view+json": {
       "model_id": "8b9421329cf8471fb93817ba6fa18902",
       "version_major": 2,
       "version_minor": 0
      },
      "text/plain": [
       "VBox(children=(HBox(children=(Checkbox(value=False, description='Optional', indent=False, layout=Layout(width=…"
      ]
     },
     "execution_count": 4,
     "metadata": {},
     "output_type": "execute_result"
    }
   ],
   "source": [
    "gui.task_ui"
   ]
  },
  {
   "cell_type": "markdown",
   "id": "hairy-guide",
   "metadata": {},
   "source": [
    "## Resource assignment and Constraints\n",
    "Resources an Tasks appear in the list boxes below.\n",
    "\n",
    "You can add constraints on resources: choose the type (e.g. TaskPrecedence) and click the \"Create resource constraint button.\n",
    "\n",
    "In a similar way, you can create tasks constraints (e.g. TaskPrecedence).\n",
    "\n",
    "A resource assignment to a task represents the fact that one (or more) resource(s) *is (are) able and required to* process the task. If many resources can process the same task, just assign the resources list as a *SelectWorker*, the solver will decide which resource to assign to the task."
   ]
  },
  {
   "cell_type": "code",
   "execution_count": 5,
   "id": "touched-palestine",
   "metadata": {},
   "outputs": [
    {
     "data": {
      "application/vnd.jupyter.widget-view+json": {
       "model_id": "fbeed4d7c89e4a7f99782e0626f02729",
       "version_major": 2,
       "version_minor": 0
      },
      "text/plain": [
       "VBox(children=(HBox(children=(SelectMultiple(description='Resources:', options=(), value=()), Dropdown(layout=…"
      ]
     },
     "execution_count": 5,
     "metadata": {},
     "output_type": "execute_result"
    }
   ],
   "source": [
    "gui.constraint_ui"
   ]
  },
  {
   "cell_type": "markdown",
   "id": "alert-arrow",
   "metadata": {},
   "source": [
    "## Optimizations\n",
    "The optimization API is quite rich. In this simple UI, only a set of usual optimizations is available. Click the checkbox to enable the related optimization computation. You *can* click more than one box : this turns the problem into a multi-objective optimization solver. Note that some of the optimization objectives below may conflict.\n",
    "\n",
    "The *Priority* is an optional parameter. Is is relevant only if the problem involves a multi-objective optimization."
   ]
  },
  {
   "cell_type": "code",
   "execution_count": 6,
   "id": "secondary-pasta",
   "metadata": {},
   "outputs": [
    {
     "data": {
      "application/vnd.jupyter.widget-view+json": {
       "model_id": "d7f230d9886546cbb76ab5f5c199349e",
       "version_major": 2,
       "version_minor": 0
      },
      "text/plain": [
       "HBox(children=(Checkbox(value=False, description='MakeSpan', indent=False, layout=Layout(width='200px')), Chec…"
      ]
     },
     "execution_count": 6,
     "metadata": {},
     "output_type": "execute_result"
    }
   ],
   "source": [
    "gui.optimization_ui"
   ]
  },
  {
   "cell_type": "markdown",
   "id": "chemical-touch",
   "metadata": {},
   "source": [
    "## Solve and render\n",
    "The *Max time* is the maximum time allowed for the solver to find a solution. If ever the computation time exceeds this value, then no solution is found. You should then increase this max time and solve a second time.\n",
    "\n",
    "Check the *Debug* box if you want a verbose output.\n",
    "\n",
    "The *Parallel* check box tells the solver to run in multitask mode. Performances *may be* better, but it strongly depends on your problem."
   ]
  },
  {
   "cell_type": "code",
   "execution_count": 7,
   "id": "toxic-singapore",
   "metadata": {},
   "outputs": [
    {
     "data": {
      "application/vnd.jupyter.widget-view+json": {
       "model_id": "82a9a5a28701457a992dd9dde3ba5369",
       "version_major": 2,
       "version_minor": 0
      },
      "text/plain": [
       "VBox(children=(HBox(children=(IntText(value=60, description='Max time (s):', layout=Layout(width='200px')), VB…"
      ]
     },
     "execution_count": 7,
     "metadata": {},
     "output_type": "execute_result"
    }
   ],
   "source": [
    "gui.solver_ui"
   ]
  }
 ],
 "metadata": {
  "kernelspec": {
   "display_name": "Python 3 (ipykernel)",
   "language": "python",
   "name": "python3"
  },
  "language_info": {
   "codemirror_mode": {
    "name": "ipython",
    "version": 3
   },
   "file_extension": ".py",
   "mimetype": "text/x-python",
   "name": "python",
   "nbconvert_exporter": "python",
   "pygments_lexer": "ipython3",
   "version": "3.9.0"
  }
 },
 "nbformat": 4,
 "nbformat_minor": 5
}
