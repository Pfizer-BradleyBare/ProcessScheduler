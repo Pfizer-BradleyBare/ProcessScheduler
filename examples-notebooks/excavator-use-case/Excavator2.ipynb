{
 "cells": [
  {
   "cell_type": "markdown",
   "id": "welcome-hunger",
   "metadata": {},
   "source": [
    "# Excavator use-case 2: find another solution"
   ]
  },
  {
   "cell_type": "code",
   "execution_count": null,
   "id": "rough-cleanup",
   "metadata": {},
   "outputs": [],
   "source": [
    "%matplotlib widget\n",
    "import processscheduler as ps\n",
    "\n",
    "problem = ps.SchedulingProblem(name=\"Excavator2:FindAnotherSolution\")\n",
    "\n",
    "# three tasks\n",
    "dig_small_hole = ps.FixedDurationTask(name=\"DigSmallHole\", duration=3)\n",
    "dig_medium_hole = ps.FixedDurationTask(name=\"DigMediumHole\", duration=7)\n",
    "dig_huge_hole = ps.FixedDurationTask(name=\"DigHugeHole\", duration=15)\n",
    "\n",
    "# two workers\n",
    "small_exc = ps.Worker(name=\"SmallExcavator\")\n",
    "medium_ex = ps.Worker(name=\"MediumExcavator\")\n",
    "\n",
    "dig_small_hole.add_required_resource(\n",
    "    ps.SelectWorkers(list_of_workers=[small_exc, medium_ex], nb_workers_to_select=1, kind=\"min\")\n",
    ")\n",
    "dig_medium_hole.add_required_resource(\n",
    "    ps.SelectWorkers(list_of_workers=[small_exc, medium_ex], nb_workers_to_select=1, kind=\"min\")\n",
    ")\n",
    "dig_huge_hole.add_required_resource(\n",
    "    ps.SelectWorkers(list_of_workers=[small_exc, medium_ex], nb_workers_to_select=1, kind=\"min\")\n",
    ")\n",
    "\n",
    "solver = ps.SchedulingSolver(problem=problem)\n",
    "solution = solver.solve()"
   ]
  },
  {
   "cell_type": "code",
   "execution_count": null,
   "id": "electoral-second",
   "metadata": {},
   "outputs": [],
   "source": [
    "ps.render_gantt_matplotlib(solution)"
   ]
  },
  {
   "cell_type": "code",
   "execution_count": null,
   "id": "proprietary-sherman",
   "metadata": {},
   "outputs": [],
   "source": [
    "solution2 = solver.find_another_solution(dig_medium_hole._start)\n",
    "ps.render_gantt_matplotlib(solution2)"
   ]
  },
  {
   "cell_type": "code",
   "execution_count": null,
   "id": "figured-minister",
   "metadata": {},
   "outputs": [],
   "source": [
    "solution3 = solver.find_another_solution(dig_medium_hole._start)\n",
    "ps.render_gantt_matplotlib(solution3)"
   ]
  }
 ],
 "metadata": {
  "kernelspec": {
   "display_name": "Python 3 (ipykernel)",
   "language": "python",
   "name": "python3"
  },
  "language_info": {
   "codemirror_mode": {
    "name": "ipython",
    "version": 3
   },
   "file_extension": ".py",
   "mimetype": "text/x-python",
   "name": "python",
   "nbconvert_exporter": "python",
   "pygments_lexer": "ipython3",
   "version": "3.9.0"
  }
 },
 "nbformat": 4,
 "nbformat_minor": 5
}
