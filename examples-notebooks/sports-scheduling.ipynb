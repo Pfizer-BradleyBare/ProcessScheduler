{
 "cells": [
  {
   "cell_type": "markdown",
   "metadata": {},
   "source": [
    "# Sports scheduling\n",
    "Adapted from https://github.com/timnon/pyschedule/blob/master/examples/sports-scheduling.ipynb"
   ]
  },
  {
   "cell_type": "code",
   "execution_count": null,
   "metadata": {},
   "outputs": [],
   "source": [
    "%matplotlib widget\n",
    "import processscheduler as ps"
   ]
  },
  {
   "cell_type": "code",
   "execution_count": null,
   "metadata": {},
   "outputs": [],
   "source": [
    "# set input size to 5 just for readability, increasing up to 10\n",
    "# to get a solution in a reasonable time\n",
    "n_teams = 5  # Number of teams\n",
    "n_fields = int(n_teams / 2)  # Num of fields\n",
    "# the minimal number of rounds will be computed by the solver\n",
    "pb = ps.SchedulingProblem(\"SportsScheduling\")"
   ]
  },
  {
   "cell_type": "code",
   "execution_count": null,
   "metadata": {},
   "outputs": [],
   "source": [
    "# Game tasks\n",
    "Games = {\n",
    "    (i, j): ps.FixedDurationTask(\"Game_%i_%i\" % (i, j), duration=1)\n",
    "    for i in range(n_teams)\n",
    "    for j in range(n_teams)\n",
    "    if i < j\n",
    "}\n",
    "\n",
    "# Team and field resources\n",
    "Teams = [ps.Worker(\"Team_%i\" % i) for i in range(n_teams)]\n",
    "Fields = [ps.Worker(\"Field_%i\" % i) for i in range(n_fields)]\n",
    "\n",
    "# Resource requirements\n",
    "for i, j in Games:\n",
    "    Games[i, j].add_required_resources([Teams[i], Teams[j]])\n",
    "    Games[i, j].add_required_resource(ps.SelectWorkers(Fields, 1))\n",
    "\n",
    "# Look for the shortest schedule\n",
    "pb.add_objective_makespan()"
   ]
  },
  {
   "cell_type": "code",
   "execution_count": null,
   "metadata": {},
   "outputs": [],
   "source": [
    "solver = ps.SchedulingSolver(pb)\n",
    "solution = solver.solve()\n",
    "solution.render_gantt_matplotlib()"
   ]
  }
 ],
 "metadata": {
  "kernelspec": {
   "display_name": "Python 3 (ipykernel)",
   "language": "python",
   "name": "python3"
  },
  "language_info": {
   "codemirror_mode": {
    "name": "ipython",
    "version": 3
   },
   "file_extension": ".py",
   "mimetype": "text/x-python",
   "name": "python",
   "nbconvert_exporter": "python",
   "pygments_lexer": "ipython3",
   "version": "3.9.0"
  }
 },
 "nbformat": 4,
 "nbformat_minor": 4
}
