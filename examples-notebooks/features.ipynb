{
 "cells": [
  {
   "cell_type": "code",
   "execution_count": null,
   "metadata": {},
   "outputs": [],
   "source": [
    "%matplotlib widget\n",
    "import  processscheduler as ps"
   ]
  },
  {
   "cell_type": "markdown",
   "metadata": {},
   "source": [
    "### Resource assignement\n",
    "Two tasks, two resources"
   ]
  },
  {
   "cell_type": "code",
   "execution_count": null,
   "metadata": {},
   "outputs": [],
   "source": [
    "# problem\n",
    "pb_ra = ps.SchedulingProblem(name=\"ResourceAssignment\")\n",
    "# tasks\n",
    "t1 = ps.FixedDurationTask(name=\"t1\", duration=2)\n",
    "t2 = ps.FixedDurationTask(name=\"t2\", duration=2)\n",
    "t3 = ps.FixedDurationTask(name=\"t3\", duration=2)\n",
    "\n",
    "# resource requirements\n",
    "w1 = ps.Worker(name=\"W1\")\n",
    "w2 = ps.Worker(name=\"W2\")\n",
    "\n",
    "# resource assignement\n",
    "t1.add_required_resource(w1)  # t1 only needs w1\n",
    "t2.add_required_resource(w2)  # t2 only needs w2\n",
    "t3.add_required_resource(w1)  # t2 needs both w1 AND w2\n",
    "t3.add_required_resource(w2)\n",
    "\n",
    "# solve\n",
    "solver1 = ps.SchedulingSolver(problem=pb_ra)\n",
    "solution1 = solver1.solve()\n",
    "ps.render_gantt_matplotlib(solution1)"
   ]
  },
  {
   "cell_type": "markdown",
   "metadata": {},
   "source": [
    "### TaskDontOverlap constraint\n",
    "Make two tasks don't overlap, one is scheduled after the other, or the opposite."
   ]
  },
  {
   "cell_type": "code",
   "execution_count": null,
   "metadata": {},
   "outputs": [],
   "source": [
    "# problem\n",
    "pb_ovlap = ps.SchedulingProblem(name=\"DontOverlapExample\", horizon=6)\n",
    "# tasks\n",
    "t1 = ps.FixedDurationTask(name=\"t1\", duration=2)\n",
    "t2 = ps.FixedDurationTask(name=\"t2\", duration=2)\n",
    "t3 = ps.FixedDurationTask(name=\"t3\", duration=2)\n",
    "\n",
    "# constraints\n",
    "ps.TaskStartAt(task=t2, value=1)\n",
    "ps.TasksDontOverlap(task_1=t2, task_2=t3)  # t2 and t3 must not overlap\n",
    "\n",
    "# solve\n",
    "solver1 = ps.SchedulingSolver(problem=pb_ovlap)\n",
    "sol = solver1.solve()\n",
    "# render_mode set to Tasks because there is no resource\n",
    "ps.render_gantt_matplotlib(sol, render_mode=\"Task\")"
   ]
  },
  {
   "cell_type": "markdown",
   "metadata": {},
   "source": [
    "### SelectWorkers assignment\n",
    "Choose $n$ workers among a list of available workers"
   ]
  },
  {
   "cell_type": "code",
   "execution_count": null,
   "metadata": {},
   "outputs": [],
   "source": [
    "# problem\n",
    "pb_alt = ps.SchedulingProblem(name=\"AlternativeWorkerExample\")\n",
    "\n",
    "# tasks\n",
    "t1 = ps.FixedDurationTask(name=\"t1\", duration=3)\n",
    "t2 = ps.FixedDurationTask(name=\"t2\", duration=2)\n",
    "t3 = ps.FixedDurationTask(name=\"t3\", duration=2)\n",
    "\n",
    "# resource requirements\n",
    "w1 = ps.Worker(name=\"W1\")\n",
    "w2 = ps.Worker(name=\"W2\")\n",
    "w3 = ps.Worker(name=\"W3\")\n",
    "w4 = ps.SelectWorkers(list_of_workers=[w1, w2, w3], nb_workers_to_select=1, kind=\"max\")\n",
    "\n",
    "# resource assignement\n",
    "t1.add_required_resource(w1)  # t1 only needs w1\n",
    "t2.add_required_resource(w2)  # t2 only needs w2\n",
    "t3.add_required_resource(w4)  # t3 only needs one of w1, 2 or 3\n",
    "\n",
    "# solve\n",
    "solver1 = ps.SchedulingSolver(problem=pb_alt)\n",
    "sol = solver1.solve()\n",
    "ps.render_gantt_matplotlib(sol, render_mode=\"Task\")"
   ]
  },
  {
   "cell_type": "code",
   "execution_count": null,
   "metadata": {},
   "outputs": [],
   "source": [
    "pb_alt = ps.SchedulingProblem(name=\"AlternativeWorkerExample\")\n",
    "\n",
    "# tasks\n",
    "t1 = ps.FixedDurationTask(name=\"t1\", duration=3)\n",
    "t2 = ps.FixedDurationTask(name=\"t2\", duration=2)\n",
    "t3 = ps.FixedDurationTask(name=\"t3\", duration=2)\n",
    "t4 = ps.FixedDurationTask(name=\"t4\", duration=2)\n",
    "t5 = ps.FixedDurationTask(name=\"t5\", duration=2)\n",
    "\n",
    "# resource requirements\n",
    "w1 = ps.Worker(name=\"W1\")\n",
    "w2 = ps.Worker(name=\"W2\")\n",
    "w3 = ps.Worker(name=\"W3\")\n",
    "w4 = ps.SelectWorkers(list_of_workers=[w1, w2, w3], nb_workers_to_select=1, kind=\"exact\")\n",
    "w5 = ps.SelectWorkers(list_of_workers=[w1, w2, w3], nb_workers_to_select=2, kind=\"max\")\n",
    "w6 = ps.SelectWorkers(list_of_workers=[w1, w2, w3], nb_workers_to_select=3, kind=\"min\")\n",
    "\n",
    "# resource assignement\n",
    "t1.add_required_resource(w1)  # t1 only needs w1\n",
    "t2.add_required_resource(w2)  # t2 only needs w2\n",
    "t3.add_required_resource(w4)  # t3 needs one of w1, 2 or 3\n",
    "t4.add_required_resource(w5)  # t4 needs at most 2 of w1, w2 or 3\n",
    "t5.add_required_resource(w6)  # t5 needs at least 3 of w1, w2 or w3\n",
    "\n",
    "pb_alt.add_objective_makespan()\n",
    "\n",
    "# solve\n",
    "solver1 = ps.SchedulingSolver(problem=pb_alt)\n",
    "sol = solver1.solve()\n",
    "\n",
    "ps.render_gantt_matplotlib(sol, render_mode=\"Task\")"
   ]
  },
  {
   "cell_type": "markdown",
   "metadata": {},
   "source": [
    "### Boolean Not for a task constraint"
   ]
  },
  {
   "cell_type": "code",
   "execution_count": null,
   "metadata": {},
   "outputs": [],
   "source": [
    "# problem\n",
    "pb_not = ps.SchedulingProblem(name=\"NotOperator\", horizon=4)\n",
    "\n",
    "# tasks\n",
    "t2 = ps.FixedDurationTask(name=\"t2\", duration=2)\n",
    "\n",
    "# constraints\n",
    "not_cstr1 = ps.Not(constraint=ps.TaskStartAt(task=t2, value=0))\n",
    "not_cstr2 = ps.Not(constraint=ps.TaskStartAt(task=t2, value=1))\n",
    "\n",
    "# solve\n",
    "solver = ps.SchedulingSolver(problem=pb_not)\n",
    "sol = solver.solve()\n",
    "print(sol.to_json())\n",
    "ps.render_gantt_matplotlib(sol)"
   ]
  },
  {
   "cell_type": "markdown",
   "metadata": {},
   "source": [
    "### Boolean Or between tasks constraints"
   ]
  },
  {
   "cell_type": "code",
   "execution_count": null,
   "metadata": {},
   "outputs": [],
   "source": [
    "# problem\n",
    "pb_or = ps.SchedulingProblem(name=\"OrOperator\", horizon=7)\n",
    "\n",
    "# tasks\n",
    "task = ps.FixedDurationTask(name=\"task\", duration=2)\n",
    "\n",
    "# constraint\n",
    "ps.Or(list_of_constraints=[ps.TaskStartAt(task=task, value=3), ps.TaskStartAt(task=task, value=2)])\n",
    "\n",
    "# solve\n",
    "solver = ps.SchedulingSolver(problem=pb_or)\n",
    "sol = solver.solve()\n",
    "ps.render_gantt_matplotlib(sol)"
   ]
  },
  {
   "cell_type": "markdown",
   "metadata": {},
   "source": [
    "### Boolean And between tasks constraints"
   ]
  },
  {
   "cell_type": "code",
   "execution_count": null,
   "metadata": {},
   "outputs": [],
   "source": [
    "# problem\n",
    "pb_and = ps.SchedulingProblem(name=\"AndOperator\", horizon=8)\n",
    "\n",
    "# tasks\n",
    "task = ps.FixedDurationTask(name=\"task\", duration=2)\n",
    "\n",
    "# constraint\n",
    "ps.And(list_of_constraints=[ps.TaskStartAfter(task=task, value=1), ps.TaskEndBefore(task=task, value=4)])\n",
    "\n",
    "# solve\n",
    "solver = SchedulingSolver(problem=pb_and)\n",
    "sol = solver.solve()\n",
    "ps.render_gantt_matplotlib(sol)"
   ]
  },
  {
   "cell_type": "code",
   "execution_count": null,
   "metadata": {},
   "outputs": [],
   "source": [
    "problem = ps.SchedulingProblem(name=\"FindAnotherSolution\", horizon=6)\n",
    "nb_solution = 0\n",
    "# only one task, there are many diffrent solutions\n",
    "task_1 = ps.FixedDurationTask(name=\"task1\", duration=2)\n",
    "\n",
    "solver = ps.SchedulingSolver(problem=problem)\n",
    "solution = solver.solve()\n",
    "\n",
    "assert solution\n",
    "\n",
    "while solution:\n",
    "    nb_solution += 1\n",
    "    print(\"Solution found for task1 start:\", solution.tasks[task_1.name].start)\n",
    "    solution = solver.find_another_solution(task_1._start)\n",
    "print(\"Number of solutions:\", nb_solution)"
   ]
  },
  {
   "cell_type": "markdown",
   "metadata": {},
   "source": [
    "### Resource unavailability"
   ]
  },
  {
   "cell_type": "code",
   "execution_count": null,
   "metadata": {},
   "outputs": [],
   "source": [
    "problem = ps.SchedulingProblem(name=\"UnavailableResource\", horizon=6)\n",
    "nb_solution = 0\n",
    "# only one task, there are many diffrent solutions\n",
    "task_1 = ps.FixedDurationTask(name=\"task1\", duration=2)\n",
    "worker_1 = ps.Worker(name=\"Worker1\")\n",
    "task_1.add_required_resource(worker_1)\n",
    "ps.ResourceUnavailable(resource=worker_1, list_of_time_intervals=[(0, 2), (4, 6)])\n",
    "\n",
    "solver = ps.SchedulingSolver(problem=problem)\n",
    "solution = solver.solve()\n",
    "\n",
    "assert solution\n",
    "\n",
    "ps.render_gantt_matplotlib(solution, render_mode=\"Resource\")"
   ]
  }
 ],
 "metadata": {
  "kernelspec": {
   "display_name": "Python 3 (ipykernel)",
   "language": "python",
   "name": "python3"
  },
  "language_info": {
   "codemirror_mode": {
    "name": "ipython",
    "version": 3
   },
   "file_extension": ".py",
   "mimetype": "text/x-python",
   "name": "python",
   "nbconvert_exporter": "python",
   "pygments_lexer": "ipython3",
   "version": "3.9.0"
  }
 },
 "nbformat": 4,
 "nbformat_minor": 4
}
